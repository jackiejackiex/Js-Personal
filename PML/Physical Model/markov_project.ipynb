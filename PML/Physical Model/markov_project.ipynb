{
  "cells": [
    {
      "cell_type": "code",
      "execution_count": null,
      "metadata": {
        "colab": {
          "base_uri": "https://localhost:8080/"
        },
        "id": "n0Fkel1HcLYo",
        "outputId": "91bc180c-cd65-44bc-8fa0-817484d07325"
      },
      "outputs": [],
      "source": [
        "!pip3 install nltk\n",
        "!pip3 install spacy\n",
        "!pip3 install markovify\n",
        "!python3 -m spacy download en"
      ]
    },
    {
      "cell_type": "code",
      "execution_count": 141,
      "metadata": {
        "colab": {
          "base_uri": "https://localhost:8080/"
        },
        "id": "FHyjxr8zdXcU",
        "outputId": "0c12737d-8d63-4136-840d-5c3dccf46290"
      },
      "outputs": [],
      "source": [
        "import spacy\n",
        "import re\n",
        "import markovify\n",
        "import warnings\n",
        "warnings.filterwarnings('ignore')"
      ]
    },
    {
      "cell_type": "code",
      "execution_count": null,
      "metadata": {
        "colab": {
          "base_uri": "https://localhost:8080/"
        },
        "id": "07q5eze6fLj4",
        "outputId": "bc8f58ea-bec6-417c-9b45-ac4390d3ff97"
      },
      "outputs": [],
      "source": [
        "file = open(\"bible.txt\",\"r\")\n",
        "\n",
        "text = file.read()\n",
        "\n",
        "print('\\nRaw:\\n', text[:1000])"
      ]
    },
    {
      "cell_type": "code",
      "execution_count": 143,
      "metadata": {
        "id": "_YDo3t1TgQlk"
      },
      "outputs": [],
      "source": [
        "def text_cleaner(text):\n",
        "  text = re.sub('\\d ', '', text)\n",
        "  text = re.sub('\\d:','', text)\n",
        "  text = re.sub('\\d','', text)\n",
        "  text = text[:900000]\n",
        "  return text"
      ]
    },
    {
      "cell_type": "code",
      "execution_count": 144,
      "metadata": {
        "id": "cpyeHbWRg_kn"
      },
      "outputs": [],
      "source": [
        "text = text_cleaner(text)\n",
        "# print(text[:1000])"
      ]
    },
    {
      "cell_type": "code",
      "execution_count": 145,
      "metadata": {
        "id": "b5TMV4PgqsSd"
      },
      "outputs": [],
      "source": [
        "#parse \n",
        "nlp = spacy.load('en_core_web_sm')\n",
        "text_doc = nlp(text)\n"
      ]
    },
    {
      "cell_type": "code",
      "execution_count": 139,
      "metadata": {
        "id": "D7CP72tj6W63"
      },
      "outputs": [],
      "source": [
        "nlp = spacy.load('en_core_web_sm')\n",
        "text_doc = nlp(text)"
      ]
    },
    {
      "cell_type": "code",
      "execution_count": 146,
      "metadata": {
        "id": "8O9oSxM5EwwS"
      },
      "outputs": [],
      "source": [
        "generator = markovify.Text(text, state_size=3)\n",
        "# print(text[:1000])"
      ]
    },
    {
      "cell_type": "code",
      "execution_count": 152,
      "metadata": {
        "id": "w1fZdljxGPqy"
      },
      "outputs": [],
      "source": [
        "# Generate a verse number\n",
        "import random\n",
        "\n",
        "def quotebook(): \n",
        "    num1 = random.randint(1, 24)\n",
        "    num2 = random. randint(1,20)\n",
        "    verse = str(num1) + \":\" + str(num2)\n",
        "    \n",
        "    book_list = [\"Genesis\", \"Exodus\", \"Leviticus\", \"Numbersm\", \"Deuteronomy\", \"Joshua\", \"Judges\", \"Ruth\", \"1 Samuel\", \"2 Samuel\", \"1 Kings\", \"2 Kings\", \"1 Chronicles\", \"2 Chronicles\", \"Ezra\", \"Nehemiah\", \"Esther\", \"Job\", \"Psalms\", \"Proverbs\", \"Ecclesiastes\", \"Song of Solomon\", \"Isaiah\", \"Jeremiah\", \"Lamentations\", \"Ezekiel\", \"Daniel\", \"Hosea\", \"Joel\", \"Amos\", \"Obadiah\", \"Jonah\", \"Micah\", \"Nahum\", \"Habakkuk\", \"Zephaniah\", \"Haggai\", \"Zechariah\", \"Malachi\"]\n",
        "    random_book = random.choice(book_list)\n",
        "    quote = random_book + \" \" + verse\n",
        "    return(quote)\n"
      ]
    },
    {
      "cell_type": "code",
      "execution_count": 154,
      "metadata": {
        "colab": {
          "base_uri": "https://localhost:8080/"
        },
        "id": "NaBBZiM8FUbb",
        "outputId": "5d1e6c64-5745-456f-8e43-3a18bd732153"
      },
      "outputs": [
        {
          "name": "stdout",
          "output_type": "stream",
          "text": [
            "Lamentations 3:10\n",
            "And they took ashes of the heifer shall wash his clothes, and fell to the earth upon his face before the ark of the testimony, before the mercy seat, and the vail of the testimony, of all things which I will give it unto the priest: And he shall cause Israel to inherit it.\n"
          ]
        }
      ],
      "source": [
        "quote = quotebook()\n",
        "print(quote)\n",
        "print(generator.make_short_sentence(max_chars=400))"
      ]
    },
    {
      "cell_type": "code",
      "execution_count": null,
      "metadata": {
        "id": "rLMZCCsuJlSD"
      },
      "outputs": [],
      "source": []
    }
  ],
  "metadata": {
    "colab": {
      "collapsed_sections": [],
      "name": "markov_project.ipynb",
      "provenance": []
    },
    "interpreter": {
      "hash": "31f2aee4e71d21fbe5cf8b01ff0e069b9275f58929596ceb00d14d90e3e16cd6"
    },
    "kernelspec": {
      "display_name": "Python 3.8.9 64-bit",
      "language": "python",
      "name": "python3"
    },
    "language_info": {
      "codemirror_mode": {
        "name": "ipython",
        "version": 3
      },
      "file_extension": ".py",
      "mimetype": "text/x-python",
      "name": "python",
      "nbconvert_exporter": "python",
      "pygments_lexer": "ipython3",
      "version": "3.8.9"
    }
  },
  "nbformat": 4,
  "nbformat_minor": 0
}
