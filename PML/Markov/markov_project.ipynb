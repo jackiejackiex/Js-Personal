{
  "nbformat": 4,
  "nbformat_minor": 0,
  "metadata": {
    "colab": {
      "name": "markov_project.ipynb",
      "provenance": [],
      "collapsed_sections": []
    },
    "kernelspec": {
      "name": "python3",
      "display_name": "Python 3"
    },
    "language_info": {
      "name": "python"
    }
  },
  "cells": [
    {
      "cell_type": "code",
      "execution_count": null,
      "metadata": {
        "colab": {
          "base_uri": "https://localhost:8080/"
        },
        "id": "n0Fkel1HcLYo",
        "outputId": "91bc180c-cd65-44bc-8fa0-817484d07325"
      },
      "outputs": [
        {
          "output_type": "stream",
          "name": "stdout",
          "text": [
            "Looking in indexes: https://pypi.org/simple, https://us-python.pkg.dev/colab-wheels/public/simple/\n",
            "Requirement already satisfied: nltk in /usr/local/lib/python3.7/dist-packages (3.2.5)\n",
            "Requirement already satisfied: six in /usr/local/lib/python3.7/dist-packages (from nltk) (1.15.0)\n",
            "Looking in indexes: https://pypi.org/simple, https://us-python.pkg.dev/colab-wheels/public/simple/\n",
            "Requirement already satisfied: spacy in /usr/local/lib/python3.7/dist-packages (2.2.4)\n",
            "Requirement already satisfied: setuptools in /usr/local/lib/python3.7/dist-packages (from spacy) (57.4.0)\n",
            "Requirement already satisfied: blis<0.5.0,>=0.4.0 in /usr/local/lib/python3.7/dist-packages (from spacy) (0.4.1)\n",
            "Requirement already satisfied: preshed<3.1.0,>=3.0.2 in /usr/local/lib/python3.7/dist-packages (from spacy) (3.0.6)\n",
            "Requirement already satisfied: wasabi<1.1.0,>=0.4.0 in /usr/local/lib/python3.7/dist-packages (from spacy) (0.9.1)\n",
            "Requirement already satisfied: numpy>=1.15.0 in /usr/local/lib/python3.7/dist-packages (from spacy) (1.21.6)\n",
            "Requirement already satisfied: requests<3.0.0,>=2.13.0 in /usr/local/lib/python3.7/dist-packages (from spacy) (2.23.0)\n",
            "Requirement already satisfied: tqdm<5.0.0,>=4.38.0 in /usr/local/lib/python3.7/dist-packages (from spacy) (4.64.0)\n",
            "Requirement already satisfied: plac<1.2.0,>=0.9.6 in /usr/local/lib/python3.7/dist-packages (from spacy) (1.1.3)\n",
            "Requirement already satisfied: catalogue<1.1.0,>=0.0.7 in /usr/local/lib/python3.7/dist-packages (from spacy) (1.0.0)\n",
            "Requirement already satisfied: murmurhash<1.1.0,>=0.28.0 in /usr/local/lib/python3.7/dist-packages (from spacy) (1.0.7)\n",
            "Requirement already satisfied: srsly<1.1.0,>=1.0.2 in /usr/local/lib/python3.7/dist-packages (from spacy) (1.0.5)\n",
            "Requirement already satisfied: cymem<2.1.0,>=2.0.2 in /usr/local/lib/python3.7/dist-packages (from spacy) (2.0.6)\n",
            "Requirement already satisfied: thinc==7.4.0 in /usr/local/lib/python3.7/dist-packages (from spacy) (7.4.0)\n",
            "Requirement already satisfied: importlib-metadata>=0.20 in /usr/local/lib/python3.7/dist-packages (from catalogue<1.1.0,>=0.0.7->spacy) (4.11.3)\n",
            "Requirement already satisfied: typing-extensions>=3.6.4 in /usr/local/lib/python3.7/dist-packages (from importlib-metadata>=0.20->catalogue<1.1.0,>=0.0.7->spacy) (4.2.0)\n",
            "Requirement already satisfied: zipp>=0.5 in /usr/local/lib/python3.7/dist-packages (from importlib-metadata>=0.20->catalogue<1.1.0,>=0.0.7->spacy) (3.8.0)\n",
            "Requirement already satisfied: urllib3!=1.25.0,!=1.25.1,<1.26,>=1.21.1 in /usr/local/lib/python3.7/dist-packages (from requests<3.0.0,>=2.13.0->spacy) (1.24.3)\n",
            "Requirement already satisfied: chardet<4,>=3.0.2 in /usr/local/lib/python3.7/dist-packages (from requests<3.0.0,>=2.13.0->spacy) (3.0.4)\n",
            "Requirement already satisfied: idna<3,>=2.5 in /usr/local/lib/python3.7/dist-packages (from requests<3.0.0,>=2.13.0->spacy) (2.10)\n",
            "Requirement already satisfied: certifi>=2017.4.17 in /usr/local/lib/python3.7/dist-packages (from requests<3.0.0,>=2.13.0->spacy) (2022.5.18.1)\n",
            "Looking in indexes: https://pypi.org/simple, https://us-python.pkg.dev/colab-wheels/public/simple/\n",
            "Requirement already satisfied: markovify in /usr/local/lib/python3.7/dist-packages (0.9.4)\n",
            "Requirement already satisfied: unidecode in /usr/local/lib/python3.7/dist-packages (from markovify) (1.3.4)\n",
            "Looking in indexes: https://pypi.org/simple, https://us-python.pkg.dev/colab-wheels/public/simple/\n",
            "Collecting en_core_web_sm==2.2.5\n",
            "  Downloading https://github.com/explosion/spacy-models/releases/download/en_core_web_sm-2.2.5/en_core_web_sm-2.2.5.tar.gz (12.0 MB)\n",
            "\u001b[K     |████████████████████████████████| 12.0 MB 27.5 MB/s \n",
            "\u001b[?25hRequirement already satisfied: spacy>=2.2.2 in /usr/local/lib/python3.7/dist-packages (from en_core_web_sm==2.2.5) (2.2.4)\n",
            "Requirement already satisfied: tqdm<5.0.0,>=4.38.0 in /usr/local/lib/python3.7/dist-packages (from spacy>=2.2.2->en_core_web_sm==2.2.5) (4.64.0)\n",
            "Requirement already satisfied: thinc==7.4.0 in /usr/local/lib/python3.7/dist-packages (from spacy>=2.2.2->en_core_web_sm==2.2.5) (7.4.0)\n",
            "Requirement already satisfied: blis<0.5.0,>=0.4.0 in /usr/local/lib/python3.7/dist-packages (from spacy>=2.2.2->en_core_web_sm==2.2.5) (0.4.1)\n",
            "Requirement already satisfied: wasabi<1.1.0,>=0.4.0 in /usr/local/lib/python3.7/dist-packages (from spacy>=2.2.2->en_core_web_sm==2.2.5) (0.9.1)\n",
            "Requirement already satisfied: setuptools in /usr/local/lib/python3.7/dist-packages (from spacy>=2.2.2->en_core_web_sm==2.2.5) (57.4.0)\n",
            "Requirement already satisfied: catalogue<1.1.0,>=0.0.7 in /usr/local/lib/python3.7/dist-packages (from spacy>=2.2.2->en_core_web_sm==2.2.5) (1.0.0)\n",
            "Requirement already satisfied: srsly<1.1.0,>=1.0.2 in /usr/local/lib/python3.7/dist-packages (from spacy>=2.2.2->en_core_web_sm==2.2.5) (1.0.5)\n",
            "Requirement already satisfied: plac<1.2.0,>=0.9.6 in /usr/local/lib/python3.7/dist-packages (from spacy>=2.2.2->en_core_web_sm==2.2.5) (1.1.3)\n",
            "Requirement already satisfied: numpy>=1.15.0 in /usr/local/lib/python3.7/dist-packages (from spacy>=2.2.2->en_core_web_sm==2.2.5) (1.21.6)\n",
            "Requirement already satisfied: requests<3.0.0,>=2.13.0 in /usr/local/lib/python3.7/dist-packages (from spacy>=2.2.2->en_core_web_sm==2.2.5) (2.23.0)\n",
            "Requirement already satisfied: preshed<3.1.0,>=3.0.2 in /usr/local/lib/python3.7/dist-packages (from spacy>=2.2.2->en_core_web_sm==2.2.5) (3.0.6)\n",
            "Requirement already satisfied: cymem<2.1.0,>=2.0.2 in /usr/local/lib/python3.7/dist-packages (from spacy>=2.2.2->en_core_web_sm==2.2.5) (2.0.6)\n",
            "Requirement already satisfied: murmurhash<1.1.0,>=0.28.0 in /usr/local/lib/python3.7/dist-packages (from spacy>=2.2.2->en_core_web_sm==2.2.5) (1.0.7)\n",
            "Requirement already satisfied: importlib-metadata>=0.20 in /usr/local/lib/python3.7/dist-packages (from catalogue<1.1.0,>=0.0.7->spacy>=2.2.2->en_core_web_sm==2.2.5) (4.11.3)\n",
            "Requirement already satisfied: typing-extensions>=3.6.4 in /usr/local/lib/python3.7/dist-packages (from importlib-metadata>=0.20->catalogue<1.1.0,>=0.0.7->spacy>=2.2.2->en_core_web_sm==2.2.5) (4.2.0)\n",
            "Requirement already satisfied: zipp>=0.5 in /usr/local/lib/python3.7/dist-packages (from importlib-metadata>=0.20->catalogue<1.1.0,>=0.0.7->spacy>=2.2.2->en_core_web_sm==2.2.5) (3.8.0)\n",
            "Requirement already satisfied: urllib3!=1.25.0,!=1.25.1,<1.26,>=1.21.1 in /usr/local/lib/python3.7/dist-packages (from requests<3.0.0,>=2.13.0->spacy>=2.2.2->en_core_web_sm==2.2.5) (1.24.3)\n",
            "Requirement already satisfied: idna<3,>=2.5 in /usr/local/lib/python3.7/dist-packages (from requests<3.0.0,>=2.13.0->spacy>=2.2.2->en_core_web_sm==2.2.5) (2.10)\n",
            "Requirement already satisfied: certifi>=2017.4.17 in /usr/local/lib/python3.7/dist-packages (from requests<3.0.0,>=2.13.0->spacy>=2.2.2->en_core_web_sm==2.2.5) (2022.5.18.1)\n",
            "Requirement already satisfied: chardet<4,>=3.0.2 in /usr/local/lib/python3.7/dist-packages (from requests<3.0.0,>=2.13.0->spacy>=2.2.2->en_core_web_sm==2.2.5) (3.0.4)\n",
            "\u001b[38;5;2m✔ Download and installation successful\u001b[0m\n",
            "You can now load the model via spacy.load('en_core_web_sm')\n"
          ]
        }
      ],
      "source": [
        "!pip install nltk\n",
        "!pip install spacy\n",
        "!pip install markovify\n",
        "!python -m spacy download en_core_web_sm"
      ]
    },
    {
      "cell_type": "code",
      "source": [
        "import spacy\n",
        "import json\n",
        "import re\n",
        "import markovify\n",
        "import nltk\n",
        "from nltk.corpus import twitter_samples\n",
        "import warnings\n",
        "warnings.filterwarnings('ignore')\n",
        "\n",
        "nltk.download('twitter_samples')"
      ],
      "metadata": {
        "colab": {
          "base_uri": "https://localhost:8080/"
        },
        "id": "FHyjxr8zdXcU",
        "outputId": "0c12737d-8d63-4136-840d-5c3dccf46290"
      },
      "execution_count": null,
      "outputs": [
        {
          "output_type": "stream",
          "name": "stdout",
          "text": [
            "[nltk_data] Downloading package twitter_samples to /root/nltk_data...\n",
            "[nltk_data]   Package twitter_samples is already up-to-date!\n"
          ]
        },
        {
          "output_type": "execute_result",
          "data": {
            "text/plain": [
              "True"
            ]
          },
          "metadata": {},
          "execution_count": 231
        }
      ]
    },
    {
      "cell_type": "code",
      "source": [
        "# twitter_samples.open('positive_tweets.json')\n",
        "# twitter_samples.\n",
        "print(twitter_samples.fileids())\n",
        "\n",
        "# f_posi = open('positive_tweets.json')\n",
        "# posi = json.load(f_posi)\n",
        "# posi\n",
        "\n",
        "# JSON file\n",
        "# f = open ('negative_tweets.json', \"r\")\n",
        "  \n",
        "# Reading from file\n",
        "# data = json.loads(f.read())"
      ],
      "metadata": {
        "colab": {
          "base_uri": "https://localhost:8080/"
        },
        "id": "07q5eze6fLj4",
        "outputId": "bc8f58ea-bec6-417c-9b45-ac4390d3ff97"
      },
      "execution_count": null,
      "outputs": [
        {
          "output_type": "stream",
          "name": "stdout",
          "text": [
            "['negative_tweets.json', 'positive_tweets.json', 'tweets.20150430-223406.json']\n"
          ]
        }
      ]
    },
    {
      "cell_type": "code",
      "source": [
        "#import tweets\n",
        "ntw = twitter_samples.docs('negative_tweets.json')\n",
        "ptw = twitter_samples.docs('positive_tweets.json')\n",
        "\n",
        "combined_tweets = ''\n",
        "\n",
        "for tw in ntw:\n",
        "  combined_tweets += tw['text'] \n",
        "  combined_tweets += '\\n'\n",
        "\n",
        "for tw in ptw:\n",
        "  combined_tweets += tw['text'] \n",
        "  combined_tweets += '\\n'\n",
        "\n",
        "# print(combined_tweets)"
      ],
      "metadata": {
        "id": "_YDo3t1TgQlk"
      },
      "execution_count": null,
      "outputs": []
    },
    {
      "cell_type": "code",
      "source": [
        "#clean up tweets\n",
        "def text_cleaner(tw):\n",
        "  # tw=re.sub(r'^h.*s$','', tw)\n",
        "  tw=tw.replace('“','')\n",
        "  tw=tw.replace('\"','')\n",
        "  tw=tw.replace('”','')\n",
        "  tw=re.sub(r'(@\\w+(?: \\w+)*):\\s','', tw)\n",
        "  tw=re.sub(r'(@\\w+(?: \\w+)*)\\s','', tw)\n",
        "  tw=re.sub(r'http\\S+','', tw)  \n",
        "  tw=re.sub(r'(?m)^\\:.*\\n?','', tw)  \n",
        "\n",
        "  return tw"
      ],
      "metadata": {
        "id": "cpyeHbWRg_kn"
      },
      "execution_count": null,
      "outputs": []
    },
    {
      "cell_type": "code",
      "source": [
        "tw_str = text_cleaner(combined_tweets)\n",
        "\n",
        "# print(tw_str)\n"
      ],
      "metadata": {
        "id": "b5TMV4PgqsSd"
      },
      "execution_count": null,
      "outputs": []
    },
    {
      "cell_type": "code",
      "source": [
        "nlp = spacy.load('en')\n",
        "tw_doc = nlp(tw_str)"
      ],
      "metadata": {
        "id": "D7CP72tj6W63"
      },
      "execution_count": null,
      "outputs": []
    },
    {
      "cell_type": "code",
      "source": [
        "tw_sents = ' '.join([sent.text for sent in tw_doc.sents if len(sent.text) > 1])\n",
        "#inspect our text\n",
        "# print(tw_sents)"
      ],
      "metadata": {
        "id": "8O9oSxM5EwwS"
      },
      "execution_count": null,
      "outputs": []
    },
    {
      "cell_type": "code",
      "source": [
        "generator_1=markovify.Text(tw_sents, state_size=3)"
      ],
      "metadata": {
        "id": "hIymu8sZFpqg"
      },
      "execution_count": null,
      "outputs": []
    },
    {
      "cell_type": "code",
      "source": [
        "# Generate a date https://stackoverflow.com/questions/553303/generate-a-random-date-between-two-other-dates\n",
        "from random import randrange\n",
        "from datetime import timedelta\n",
        "\n",
        "def random_date(start, end):\n",
        "    delta = end - start\n",
        "    int_delta = (delta.days * 24 * 60 * 60) + delta.seconds\n",
        "    random_second = randrange(int_delta)\n",
        "    return start + timedelta(seconds=random_second)\n",
        "\n",
        "from datetime import datetime\n",
        "d1 = datetime.strptime('1/1/2021 12:00 AM', '%m/%d/%Y %I:%M %p')\n",
        "d2 = datetime.strptime('1/1/2022 11:59 PM', '%m/%d/%Y %I:%M %p')"
      ],
      "metadata": {
        "id": "w1fZdljxGPqy"
      },
      "execution_count": null,
      "outputs": []
    },
    {
      "cell_type": "code",
      "source": [
        "for i in range(25):\n",
        "  print(random_date(d1, d2))\n",
        "  print(generator_1.make_sentence(tries=500,max_char=140))"
      ],
      "metadata": {
        "colab": {
          "base_uri": "https://localhost:8080/"
        },
        "id": "NaBBZiM8FUbb",
        "outputId": "5d1e6c64-5745-456f-8e43-3a18bd732153"
      },
      "execution_count": null,
      "outputs": [
        {
          "output_type": "stream",
          "name": "stdout",
          "text": [
            "2021-01-13 02:27:53\n",
            "Follow someone and then a few days ago and it still hurts a little.\n",
            "2021-12-25 11:03:32\n",
            "Bumped it a few days to redecorate.\n",
            "2021-03-23 22:14:44\n",
            "I'm better this morning anyway, and I have no idea what I'm doing wrong.\n",
            "2021-02-10 21:45:00\n",
            "It's always going to be on sale at 9:30 I bought it at 9:48...\n",
            "2021-05-30 19:52:35\n",
            "Let me know if you want to get FREE iPhone 6?\n",
            "2021-04-03 13:28:51\n",
            "Keep in touch and if you ever want to do some fun low ranked games or subgames or faceit today?\n",
            "2021-10-02 01:38:57\n",
            ":D ?? :D You always be part of me, I failed to work at the revamps in the end...\n",
            "2021-02-15 05:17:15\n",
            ":D In two weeks we will be closing for a few days later realise they're problematic as fuck.\n",
            "2021-11-16 16:30:05\n",
            "And Thank you for RTs.\n",
            "2021-02-24 01:46:40\n",
            "Thank you for the follow as well.\n",
            "2021-07-03 21:24:29\n",
            ":D If you want to get I touch.\n",
            "2021-12-09 02:25:09\n",
            "You can always go the Indie route if you have us Rubber Ducks with you!\n",
            "2021-01-07 00:19:51\n",
            "I'm better this morning anyway, and I have no idea what I'm doing wrong.\n",
            "2021-02-25 05:58:28\n",
            "Who wants the favor of God and the favor of God and the favor of God and the favor of God and the favor of God and the favor of God and the favor of men...\n",
            "2021-04-28 07:52:18\n",
            "Keep in touch and if you ever want to do some fun low ranked games or subgames or faceit today?\n",
            "2021-05-23 12:24:29\n",
            ":D ?? :D You always be part of me, I failed to work at the revamps in the end...\n",
            "2021-10-26 19:49:15\n",
            "I have to go to the bookstore?\n",
            "2021-03-17 07:24:39\n",
            "Who wants the favor of God and the favor of God and the favor of men...\n",
            "2021-03-17 04:02:14\n",
            "A very gracious thank you for your wonderful energy in class!\n",
            "2021-09-24 14:42:31\n",
            "We will be in touch with those who disagree w. you gets us nowhere!\n",
            "2021-02-21 16:02:32\n",
            "Follow someone and then a few days ago and it still hurts a little.\n",
            "2021-03-11 09:48:19\n",
            "It's my birthday :D I love you, Coco folks!\n",
            "2021-06-12 19:53:54\n",
            "Don't forget to tag us as soon as we get them, #Filbarbarian!\n",
            "2021-05-12 09:36:50\n",
            ":D ?? :D You always be part of me, I failed to work at the revamps in the end...\n",
            "2021-07-06 09:46:15\n",
            "Keep in touch and if you ever want to do some fun low ranked games or subgames or faceit today?\n"
          ]
        }
      ]
    },
    {
      "cell_type": "code",
      "source": [
        ""
      ],
      "metadata": {
        "id": "rLMZCCsuJlSD"
      },
      "execution_count": null,
      "outputs": []
    }
  ]
}