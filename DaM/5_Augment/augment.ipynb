{
  "nbformat": 4,
  "nbformat_minor": 0,
  "metadata": {
    "colab": {
      "name": "augment.ipynb",
      "provenance": [],
      "collapsed_sections": []
    },
    "kernelspec": {
      "name": "python3",
      "display_name": "Python 3"
    },
    "language_info": {
      "name": "python"
    }
  },
  "cells": [
    {
      "cell_type": "code",
      "source": [
        "pip install fer"
      ],
      "metadata": {
        "id": "w_HcWGSGPHYC",
        "colab": {
          "base_uri": "https://localhost:8080/"
        },
        "outputId": "cd4a164e-63d3-45c2-d872-6b6864ea20f7"
      },
      "execution_count": null,
      "outputs": [
        {
          "output_type": "stream",
          "name": "stdout",
          "text": [
            "Looking in indexes: https://pypi.org/simple, https://us-python.pkg.dev/colab-wheels/public/simple/\n",
            "Collecting fer\n",
            "  Downloading fer-22.4.0-py3-none-any.whl (812 kB)\n",
            "\u001b[K     |████████████████████████████████| 812 kB 27.3 MB/s \n",
            "\u001b[?25hRequirement already satisfied: keras>=2.0.0 in /usr/local/lib/python3.7/dist-packages (from fer) (2.8.0)\n",
            "Requirement already satisfied: tqdm in /usr/local/lib/python3.7/dist-packages (from fer) (4.64.0)\n",
            "Requirement already satisfied: requests in /usr/local/lib/python3.7/dist-packages (from fer) (2.23.0)\n",
            "Requirement already satisfied: matplotlib in /usr/local/lib/python3.7/dist-packages (from fer) (3.2.2)\n",
            "Collecting mtcnn>=0.1.1\n",
            "  Downloading mtcnn-0.1.1-py3-none-any.whl (2.3 MB)\n",
            "\u001b[K     |████████████████████████████████| 2.3 MB 43.6 MB/s \n",
            "\u001b[?25hRequirement already satisfied: opencv-contrib-python in /usr/local/lib/python3.7/dist-packages (from fer) (4.1.2.30)\n",
            "Requirement already satisfied: opencv-python>=4.1.0 in /usr/local/lib/python3.7/dist-packages (from mtcnn>=0.1.1->fer) (4.1.2.30)\n",
            "Requirement already satisfied: numpy>=1.14.5 in /usr/local/lib/python3.7/dist-packages (from opencv-python>=4.1.0->mtcnn>=0.1.1->fer) (1.21.6)\n",
            "Requirement already satisfied: cycler>=0.10 in /usr/local/lib/python3.7/dist-packages (from matplotlib->fer) (0.11.0)\n",
            "Requirement already satisfied: python-dateutil>=2.1 in /usr/local/lib/python3.7/dist-packages (from matplotlib->fer) (2.8.2)\n",
            "Requirement already satisfied: pyparsing!=2.0.4,!=2.1.2,!=2.1.6,>=2.0.1 in /usr/local/lib/python3.7/dist-packages (from matplotlib->fer) (3.0.9)\n",
            "Requirement already satisfied: kiwisolver>=1.0.1 in /usr/local/lib/python3.7/dist-packages (from matplotlib->fer) (1.4.2)\n",
            "Requirement already satisfied: typing-extensions in /usr/local/lib/python3.7/dist-packages (from kiwisolver>=1.0.1->matplotlib->fer) (4.2.0)\n",
            "Requirement already satisfied: six>=1.5 in /usr/local/lib/python3.7/dist-packages (from python-dateutil>=2.1->matplotlib->fer) (1.15.0)\n",
            "Requirement already satisfied: urllib3!=1.25.0,!=1.25.1,<1.26,>=1.21.1 in /usr/local/lib/python3.7/dist-packages (from requests->fer) (1.24.3)\n",
            "Requirement already satisfied: chardet<4,>=3.0.2 in /usr/local/lib/python3.7/dist-packages (from requests->fer) (3.0.4)\n",
            "Requirement already satisfied: certifi>=2017.4.17 in /usr/local/lib/python3.7/dist-packages (from requests->fer) (2022.5.18.1)\n",
            "Requirement already satisfied: idna<3,>=2.5 in /usr/local/lib/python3.7/dist-packages (from requests->fer) (2.10)\n",
            "Installing collected packages: mtcnn, fer\n",
            "Successfully installed fer-22.4.0 mtcnn-0.1.1\n"
          ]
        }
      ]
    },
    {
      "cell_type": "code",
      "execution_count": 1,
      "metadata": {
        "id": "sZYpjRWQBw_T",
        "colab": {
          "base_uri": "https://localhost:8080/"
        },
        "outputId": "7f2ddaca-eaae-4d34-d725-0d90295da608"
      },
      "outputs": [
        {
          "output_type": "stream",
          "name": "stdout",
          "text": [
            "Mounted at /content/gdrive\n"
          ]
        }
      ],
      "source": [
        "#mount google drive\n",
        "from google.colab import drive\n",
        "drive.mount('/content/gdrive')"
      ]
    },
    {
      "cell_type": "code",
      "source": [
        "# api reference: https://metmuseum.github.io/\n",
        "\n",
        "import urllib.request\n",
        "import urllib.error\n",
        "import json\n",
        "import pickle\n",
        "\n",
        "urls_list = [\n",
        "  \"https://collectionapi.metmuseum.org/public/collection/v1/search?q=portrait&material=Paintings&departmentId=11\", # European Paintings\n",
        "  \"https://collectionapi.metmuseum.org/public/collection/v1/search?q=portrait&departmentId=9\" # Drawings and Prints\n",
        "]\n",
        "\n",
        "portraits_list = []\n",
        "\n",
        "# get object ids of all paintings that show up in the search for \"portrait\" from selected departments\n",
        "for url in urls_list:\n",
        "  portraits = urllib.request.urlopen(url).read()\n",
        "  portraits_list.extend(json.loads(portraits)['objectIDs'])\n",
        "\n",
        "# list to store json objects returned from MET api\n",
        "\n",
        "portrait_objects_list = []"
      ],
      "metadata": {
        "id": "I4B1Cjd9S1aC"
      },
      "execution_count": null,
      "outputs": []
    },
    {
      "cell_type": "code",
      "source": [
        "# download images and populate portrait_objects_list\n",
        "for id in portraits_list:\n",
        "  # construct url with object id\n",
        "  url = f'https://collectionapi.metmuseum.org/public/collection/v1/objects/{id}'\n",
        "\n",
        "  # get json response from api\n",
        "  # some object ids do not return a result return a 404 error - try/except to filter\n",
        "  # those out (https://www.edureka.co/community/31707/how-do-i-use-urllib-to-see-if-a-website-is-404-or-200-in-python)\n",
        "  try:\n",
        "    url_response = urllib.request.urlopen(url)\n",
        "  except urllib.error.HTTPError as e:\n",
        "    print(\"ERROR IN API GET REQUEST\")\n",
        "    continue # skip this iteration of loop if error is caught\n",
        "  portrait_obj = json.loads(url_response.read())\n",
        "  \n",
        "  # save image if primaryImage url is in json response\n",
        "  # some primaryImage urls have spaces and are broken - filter these out.\n",
        "  if portrait_obj['primaryImage'] and ' ' not in portrait_obj['primaryImage']:\n",
        "    # get url of image file\n",
        "    portrait_image_url = portrait_obj['primaryImage']\n",
        "\n",
        "    # download image to google drive folder\n",
        "    try:\n",
        "      print(f\"download {id}\")\n",
        "      urllib.request.urlretrieve(portrait_image_url, f'gdrive/MyDrive/augment/{id}.jpg')\n",
        "      # local save\n",
        "      # urllib.request.urlretrieve(portrait_image_url, f'augment/{id}.jpg')\n",
        "    except urllib.error.HTTPError as e:\n",
        "      print(\"ERROR IN IMAGE DOWNLOAD\")\n",
        "      continue # skip this iteration of loop if error is caught\n",
        "\n",
        "    # save to portrait_objects_list\n",
        "    portrait_objects_list.append(portrait_obj)\n",
        "\n",
        "\n",
        "\n",
        "# save portrait_objects_list to pickle in drive so we dont have to download every time\n",
        "# (https://stackoverflow.com/questions/25464295/dump-a-list-in-a-pickle-file-and-retrieve-it-back-later)\n",
        "with open(\"gdrive/MyDrive/augment/portrait_objects_list.pickle\", \"wb\") as file:\n",
        "    pickle.dump(portrait_objects_list, file)"
      ],
      "metadata": {
        "colab": {
          "base_uri": "https://localhost:8080/"
        },
        "id": "5rDqKEo_Dbz2",
        "outputId": "c694a068-4ab4-41b8-f4b5-51c27a3082a0"
      },
      "execution_count": null,
      "outputs": [
        {
          "output_type": "stream",
          "name": "stdout",
          "text": [
            "download 437875\n",
            "download 436986\n",
            "download 436541\n",
            "download 437056\n",
            "download 436489\n",
            "download 436106\n",
            "download 437490\n",
            "download 436535\n",
            "download 436984\n",
            "download 436243\n",
            "download 827660\n",
            "download 436102\n",
            "download 437507\n",
            "download 436795\n",
            "download 438816\n",
            "download 437488\n",
            "download 437654\n",
            "download 438815\n",
            "download 440209\n",
            "download 438467\n",
            "download 436522\n",
            "download 436703\n",
            "download 687513\n",
            "download 437173\n",
            "download 436722\n",
            "download 435848\n",
            "download 436038\n",
            "download 437990\n",
            "download 437868\n",
            "download 437057\n",
            "download 780292\n",
            "download 435876\n",
            "download 436098\n",
            "download 438107\n",
            "download 438690\n",
            "download 437487\n",
            "download 439327\n",
            "download 816522\n",
            "download 436794\n",
            "download 437869\n",
            "download 436793\n",
            "download 435713\n",
            "download 435666\n",
            "download 437879\n",
            "download 437457\n",
            "download 437061\n",
            "download 436851\n",
            "download 436096\n",
            "download 436105\n",
            "download 436918\n",
            "download 437217\n",
            "download 436686\n",
            "download 435868\n",
            "download 436917\n",
            "download 436252\n",
            "download 437790\n",
            "download 436965\n",
            "download 436516\n",
            "download 435870\n",
            "download 437881\n",
            "download 435869\n",
            "download 436622\n",
            "download 436706\n",
            "download 435851\n",
            "download 435702\n",
            "download 436040\n",
            "download 435873\n",
            "download 436152\n",
            "download 436521\n",
            "download 435888\n",
            "download 438821\n",
            "download 437203\n",
            "download 435878\n",
            "download 436036\n",
            "download 435875\n",
            "download 437174\n",
            "download 435874\n",
            "download 848137\n",
            "download 436850\n",
            "download 437877\n",
            "download 436485\n",
            "download 435645\n",
            "download 438136\n",
            "download 437854\n",
            "download 437980\n",
            "download 437035\n",
            "download 437925\n",
            "download 435883\n",
            "download 436548\n",
            "download 435779\n",
            "download 437060\n",
            "download 437062\n",
            "download 436337\n",
            "download 437046\n",
            "download 436657\n",
            "download 437389\n",
            "download 436643\n",
            "download 437202\n",
            "download 435867\n",
            "download 436411\n",
            "download 436336\n",
            "download 339130\n",
            "download 337438\n",
            "download 338613\n",
            "download 335645\n",
            "download 352282\n",
            "download 334695\n",
            "download 419959\n",
            "download 337363\n",
            "download 390222\n",
            "download 826758\n",
            "download 391854\n",
            "download 383484\n",
            "download 739125\n",
            "download 765749\n",
            "download 360606\n",
            "download 360639\n",
            "download 360641\n",
            "download 361513\n",
            "download 361638\n",
            "download 361779\n",
            "download 735025\n",
            "download 361740\n",
            "download 360836\n",
            "download 708341\n",
            "download 708353\n",
            "download 356519\n",
            "download 361760\n",
            "download 360837\n",
            "download 361759\n",
            "download 360631\n"
          ]
        }
      ]
    },
    {
      "cell_type": "code",
      "source": [
        "# load portrait_objects_list from pickle if images already downloaded\n",
        "with open(\"gdrive/MyDrive/augment/portrait_objects_list.pickle\", \"rb\") as file:\n",
        "  portrait_objects_list = pickle.load(file)"
      ],
      "metadata": {
        "colab": {
          "base_uri": "https://localhost:8080/"
        },
        "id": "zCeg271CL9bz",
        "outputId": "40abec3b-24cf-49b9-a129-f464efa9277e"
      },
      "execution_count": null,
      "outputs": [
        {
          "output_type": "execute_result",
          "data": {
            "text/plain": [
              "131"
            ]
          },
          "metadata": {},
          "execution_count": 5
        }
      ]
    },
    {
      "cell_type": "code",
      "source": [
        "from fer import FER\n",
        "import cv2\n",
        "import pandas as pd\n",
        "\n",
        "detector = FER(mtcnn=True)\n",
        "\n",
        "# create empty dataframe for dataset\n",
        "df = pd.DataFrame(columns = ['met_obj_id', 'title', 'artist', 'year', 'angry',\n",
        "                             'disgust', 'fear', 'happy', 'sad', 'surprise', 'neutral', 'top_emotion'])\n",
        "\n",
        "for portrait in portrait_objects_list:\n",
        "  # extract details from portrait\n",
        "  obj_id = portrait['objectID']\n",
        "  title = portrait['title']\n",
        "  artist = portrait['artistDisplayName']\n",
        "  year = portrait['objectEndDate']\n",
        "  # read image and detect emotions\n",
        "  img = cv2.imread(f\"gdrive/MyDrive/augment/{obj_id}.jpg\")\n",
        "  faces = detector.detect_emotions(img)\n",
        "  # iterate over all faces found in portrait\n",
        "  for face in faces:\n",
        "    emotions = face['emotions']\n",
        "    # add to dataset\n",
        "    df = df.append({\n",
        "        'met_obj_id': obj_id,\n",
        "        'title': title,\n",
        "        'artist': artist,\n",
        "        'year': year,\n",
        "        'angry': emotions['angry'],\n",
        "        'disgust': emotions['disgust'],\n",
        "        'fear': emotions['fear'],\n",
        "        'happy': emotions['happy'],\n",
        "        'sad': emotions['sad'],\n",
        "        'surprise': emotions['surprise'],\n",
        "        'neutral': emotions['neutral'],\n",
        "        'top_emotion': max(emotions, key=emotions.get)\n",
        "    }, ignore_index = True)\n",
        "\n",
        "\n",
        "# img = cv2.imread(\"gdrive/MyDrive/augment/338613.jpg\")\n",
        "# result = detector.detect_emotions(img)\n",
        "# for face in result:\n",
        "#   print('issa face')\n",
        "#   emotions = face['emotions']\n",
        "#   print(emotions)\n",
        "#   print(max(emotions, key=emotions.get))\n",
        "print(df)"
      ],
      "metadata": {
        "colab": {
          "base_uri": "https://localhost:8080/"
        },
        "id": "eM4BXd5rkFOg",
        "outputId": "9c513e50-dd5c-4224-a46f-c63be18f657d"
      },
      "execution_count": null,
      "outputs": [
        {
          "output_type": "stream",
          "name": "stdout",
          "text": [
            "    met_obj_id                                              title  \\\n",
            "0       437875                                  Portrait of a Man   \n",
            "1       436986                                Portrait of a Woman   \n",
            "2       436541             Sebastián Martínez y Pérez (1747–1800)   \n",
            "3       437056  Tommaso di Folco Portinari (1428–1501); Maria ...   \n",
            "4       437056  Tommaso di Folco Portinari (1428–1501); Maria ...   \n",
            "..         ...                                                ...   \n",
            "212     356519                      Charles I and Henrietta Maria   \n",
            "213     361760  Hieronymus Westonius (Richard Weston, Earl of ...   \n",
            "214     360837              Sir Anthony Van Dyck with a Sunflower   \n",
            "215     361759     Mary Villiers, Dutchess of Lennox and Richmond   \n",
            "216     360631                                    Henrietta Maria   \n",
            "\n",
            "                                   artist  year  angry  disgust  fear  happy  \\\n",
            "0                               Velázquez  1655   0.04      0.0  0.03   0.02   \n",
            "1                          Quinten Massys  1525   0.03      0.0  0.01   0.00   \n",
            "2    Goya (Francisco de Goya y Lucientes)  1792   0.08      0.0  0.05   0.00   \n",
            "3                            Hans Memling  1475   0.06      0.0  0.01   0.00   \n",
            "4                            Hans Memling  1475   0.03      0.0  0.01   0.01   \n",
            "..                                    ...   ...    ...      ...   ...    ...   \n",
            "212                     Wenceslaus Hollar  1641   0.02      0.0  0.08   0.40   \n",
            "213                     Wenceslaus Hollar  1645   0.18      0.0  0.13   0.15   \n",
            "214                     Wenceslaus Hollar  1644   0.05      0.0  0.08   0.46   \n",
            "215                     Wenceslaus Hollar  1650   0.03      0.0  0.03   0.02   \n",
            "216                     Wenceslaus Hollar  1641   0.01      0.0  0.08   0.01   \n",
            "\n",
            "      sad  surprise  neutral top_emotion  \n",
            "0    0.30      0.00     0.61     neutral  \n",
            "1    0.32      0.00     0.64     neutral  \n",
            "2    0.13      0.00     0.74     neutral  \n",
            "3    0.19      0.00     0.73     neutral  \n",
            "4    0.42      0.01     0.53     neutral  \n",
            "..    ...       ...      ...         ...  \n",
            "212  0.43      0.04     0.03         sad  \n",
            "213  0.53      0.00     0.01         sad  \n",
            "214  0.38      0.00     0.02       happy  \n",
            "215  0.88      0.00     0.03         sad  \n",
            "216  0.82      0.01     0.07         sad  \n",
            "\n",
            "[217 rows x 12 columns]\n"
          ]
        }
      ]
    },
    {
      "cell_type": "code",
      "source": [
        "#save dataset to csv\n",
        "df.to_csv(\"gdrive/MyDrive/augment/dataset.csv\")"
      ],
      "metadata": {
        "id": "kl-UPH3q_rsC"
      },
      "execution_count": null,
      "outputs": []
    },
    {
      "cell_type": "code",
      "source": [
        "#read dataset from csv\n",
        "dataset = pd.read_csv(\"gdrive/MyDrive/augment/dataset.csv\")"
      ],
      "metadata": {
        "id": "XK_B9XJCBP1w"
      },
      "execution_count": 3,
      "outputs": []
    },
    {
      "cell_type": "code",
      "source": [
        "dataset"
      ],
      "metadata": {
        "colab": {
          "base_uri": "https://localhost:8080/",
          "height": 554
        },
        "id": "cOFspsB6Bet5",
        "outputId": "bf2b3b42-cea9-489d-e1a3-052c0c6170d2"
      },
      "execution_count": 4,
      "outputs": [
        {
          "output_type": "execute_result",
          "data": {
            "text/plain": [
              "     Unnamed: 0  met_obj_id  \\\n",
              "0             0      437875   \n",
              "1             1      436986   \n",
              "2             2      436541   \n",
              "3             3      437056   \n",
              "4             4      437056   \n",
              "..          ...         ...   \n",
              "212         212      356519   \n",
              "213         213      361760   \n",
              "214         214      360837   \n",
              "215         215      361759   \n",
              "216         216      360631   \n",
              "\n",
              "                                                 title  \\\n",
              "0                                    Portrait of a Man   \n",
              "1                                  Portrait of a Woman   \n",
              "2               Sebastián Martínez y Pérez (1747–1800)   \n",
              "3    Tommaso di Folco Portinari (1428–1501); Maria ...   \n",
              "4    Tommaso di Folco Portinari (1428–1501); Maria ...   \n",
              "..                                                 ...   \n",
              "212                      Charles I and Henrietta Maria   \n",
              "213  Hieronymus Westonius (Richard Weston, Earl of ...   \n",
              "214              Sir Anthony Van Dyck with a Sunflower   \n",
              "215     Mary Villiers, Dutchess of Lennox and Richmond   \n",
              "216                                    Henrietta Maria   \n",
              "\n",
              "                                   artist  year  angry  disgust  fear  happy  \\\n",
              "0                               Velázquez  1655   0.04      0.0  0.03   0.02   \n",
              "1                          Quinten Massys  1525   0.03      0.0  0.01   0.00   \n",
              "2    Goya (Francisco de Goya y Lucientes)  1792   0.08      0.0  0.05   0.00   \n",
              "3                            Hans Memling  1475   0.06      0.0  0.01   0.00   \n",
              "4                            Hans Memling  1475   0.03      0.0  0.01   0.01   \n",
              "..                                    ...   ...    ...      ...   ...    ...   \n",
              "212                     Wenceslaus Hollar  1641   0.02      0.0  0.08   0.40   \n",
              "213                     Wenceslaus Hollar  1645   0.18      0.0  0.13   0.15   \n",
              "214                     Wenceslaus Hollar  1644   0.05      0.0  0.08   0.46   \n",
              "215                     Wenceslaus Hollar  1650   0.03      0.0  0.03   0.02   \n",
              "216                     Wenceslaus Hollar  1641   0.01      0.0  0.08   0.01   \n",
              "\n",
              "      sad  surprise  neutral top_emotion  \n",
              "0    0.30      0.00     0.61     neutral  \n",
              "1    0.32      0.00     0.64     neutral  \n",
              "2    0.13      0.00     0.74     neutral  \n",
              "3    0.19      0.00     0.73     neutral  \n",
              "4    0.42      0.01     0.53     neutral  \n",
              "..    ...       ...      ...         ...  \n",
              "212  0.43      0.04     0.03         sad  \n",
              "213  0.53      0.00     0.01         sad  \n",
              "214  0.38      0.00     0.02       happy  \n",
              "215  0.88      0.00     0.03         sad  \n",
              "216  0.82      0.01     0.07         sad  \n",
              "\n",
              "[217 rows x 13 columns]"
            ],
            "text/html": [
              "\n",
              "  <div id=\"df-542b3fd6-b5e5-4477-a9a9-adfe12c37f0e\">\n",
              "    <div class=\"colab-df-container\">\n",
              "      <div>\n",
              "<style scoped>\n",
              "    .dataframe tbody tr th:only-of-type {\n",
              "        vertical-align: middle;\n",
              "    }\n",
              "\n",
              "    .dataframe tbody tr th {\n",
              "        vertical-align: top;\n",
              "    }\n",
              "\n",
              "    .dataframe thead th {\n",
              "        text-align: right;\n",
              "    }\n",
              "</style>\n",
              "<table border=\"1\" class=\"dataframe\">\n",
              "  <thead>\n",
              "    <tr style=\"text-align: right;\">\n",
              "      <th></th>\n",
              "      <th>Unnamed: 0</th>\n",
              "      <th>met_obj_id</th>\n",
              "      <th>title</th>\n",
              "      <th>artist</th>\n",
              "      <th>year</th>\n",
              "      <th>angry</th>\n",
              "      <th>disgust</th>\n",
              "      <th>fear</th>\n",
              "      <th>happy</th>\n",
              "      <th>sad</th>\n",
              "      <th>surprise</th>\n",
              "      <th>neutral</th>\n",
              "      <th>top_emotion</th>\n",
              "    </tr>\n",
              "  </thead>\n",
              "  <tbody>\n",
              "    <tr>\n",
              "      <th>0</th>\n",
              "      <td>0</td>\n",
              "      <td>437875</td>\n",
              "      <td>Portrait of a Man</td>\n",
              "      <td>Velázquez</td>\n",
              "      <td>1655</td>\n",
              "      <td>0.04</td>\n",
              "      <td>0.0</td>\n",
              "      <td>0.03</td>\n",
              "      <td>0.02</td>\n",
              "      <td>0.30</td>\n",
              "      <td>0.00</td>\n",
              "      <td>0.61</td>\n",
              "      <td>neutral</td>\n",
              "    </tr>\n",
              "    <tr>\n",
              "      <th>1</th>\n",
              "      <td>1</td>\n",
              "      <td>436986</td>\n",
              "      <td>Portrait of a Woman</td>\n",
              "      <td>Quinten Massys</td>\n",
              "      <td>1525</td>\n",
              "      <td>0.03</td>\n",
              "      <td>0.0</td>\n",
              "      <td>0.01</td>\n",
              "      <td>0.00</td>\n",
              "      <td>0.32</td>\n",
              "      <td>0.00</td>\n",
              "      <td>0.64</td>\n",
              "      <td>neutral</td>\n",
              "    </tr>\n",
              "    <tr>\n",
              "      <th>2</th>\n",
              "      <td>2</td>\n",
              "      <td>436541</td>\n",
              "      <td>Sebastián Martínez y Pérez (1747–1800)</td>\n",
              "      <td>Goya (Francisco de Goya y Lucientes)</td>\n",
              "      <td>1792</td>\n",
              "      <td>0.08</td>\n",
              "      <td>0.0</td>\n",
              "      <td>0.05</td>\n",
              "      <td>0.00</td>\n",
              "      <td>0.13</td>\n",
              "      <td>0.00</td>\n",
              "      <td>0.74</td>\n",
              "      <td>neutral</td>\n",
              "    </tr>\n",
              "    <tr>\n",
              "      <th>3</th>\n",
              "      <td>3</td>\n",
              "      <td>437056</td>\n",
              "      <td>Tommaso di Folco Portinari (1428–1501); Maria ...</td>\n",
              "      <td>Hans Memling</td>\n",
              "      <td>1475</td>\n",
              "      <td>0.06</td>\n",
              "      <td>0.0</td>\n",
              "      <td>0.01</td>\n",
              "      <td>0.00</td>\n",
              "      <td>0.19</td>\n",
              "      <td>0.00</td>\n",
              "      <td>0.73</td>\n",
              "      <td>neutral</td>\n",
              "    </tr>\n",
              "    <tr>\n",
              "      <th>4</th>\n",
              "      <td>4</td>\n",
              "      <td>437056</td>\n",
              "      <td>Tommaso di Folco Portinari (1428–1501); Maria ...</td>\n",
              "      <td>Hans Memling</td>\n",
              "      <td>1475</td>\n",
              "      <td>0.03</td>\n",
              "      <td>0.0</td>\n",
              "      <td>0.01</td>\n",
              "      <td>0.01</td>\n",
              "      <td>0.42</td>\n",
              "      <td>0.01</td>\n",
              "      <td>0.53</td>\n",
              "      <td>neutral</td>\n",
              "    </tr>\n",
              "    <tr>\n",
              "      <th>...</th>\n",
              "      <td>...</td>\n",
              "      <td>...</td>\n",
              "      <td>...</td>\n",
              "      <td>...</td>\n",
              "      <td>...</td>\n",
              "      <td>...</td>\n",
              "      <td>...</td>\n",
              "      <td>...</td>\n",
              "      <td>...</td>\n",
              "      <td>...</td>\n",
              "      <td>...</td>\n",
              "      <td>...</td>\n",
              "      <td>...</td>\n",
              "    </tr>\n",
              "    <tr>\n",
              "      <th>212</th>\n",
              "      <td>212</td>\n",
              "      <td>356519</td>\n",
              "      <td>Charles I and Henrietta Maria</td>\n",
              "      <td>Wenceslaus Hollar</td>\n",
              "      <td>1641</td>\n",
              "      <td>0.02</td>\n",
              "      <td>0.0</td>\n",
              "      <td>0.08</td>\n",
              "      <td>0.40</td>\n",
              "      <td>0.43</td>\n",
              "      <td>0.04</td>\n",
              "      <td>0.03</td>\n",
              "      <td>sad</td>\n",
              "    </tr>\n",
              "    <tr>\n",
              "      <th>213</th>\n",
              "      <td>213</td>\n",
              "      <td>361760</td>\n",
              "      <td>Hieronymus Westonius (Richard Weston, Earl of ...</td>\n",
              "      <td>Wenceslaus Hollar</td>\n",
              "      <td>1645</td>\n",
              "      <td>0.18</td>\n",
              "      <td>0.0</td>\n",
              "      <td>0.13</td>\n",
              "      <td>0.15</td>\n",
              "      <td>0.53</td>\n",
              "      <td>0.00</td>\n",
              "      <td>0.01</td>\n",
              "      <td>sad</td>\n",
              "    </tr>\n",
              "    <tr>\n",
              "      <th>214</th>\n",
              "      <td>214</td>\n",
              "      <td>360837</td>\n",
              "      <td>Sir Anthony Van Dyck with a Sunflower</td>\n",
              "      <td>Wenceslaus Hollar</td>\n",
              "      <td>1644</td>\n",
              "      <td>0.05</td>\n",
              "      <td>0.0</td>\n",
              "      <td>0.08</td>\n",
              "      <td>0.46</td>\n",
              "      <td>0.38</td>\n",
              "      <td>0.00</td>\n",
              "      <td>0.02</td>\n",
              "      <td>happy</td>\n",
              "    </tr>\n",
              "    <tr>\n",
              "      <th>215</th>\n",
              "      <td>215</td>\n",
              "      <td>361759</td>\n",
              "      <td>Mary Villiers, Dutchess of Lennox and Richmond</td>\n",
              "      <td>Wenceslaus Hollar</td>\n",
              "      <td>1650</td>\n",
              "      <td>0.03</td>\n",
              "      <td>0.0</td>\n",
              "      <td>0.03</td>\n",
              "      <td>0.02</td>\n",
              "      <td>0.88</td>\n",
              "      <td>0.00</td>\n",
              "      <td>0.03</td>\n",
              "      <td>sad</td>\n",
              "    </tr>\n",
              "    <tr>\n",
              "      <th>216</th>\n",
              "      <td>216</td>\n",
              "      <td>360631</td>\n",
              "      <td>Henrietta Maria</td>\n",
              "      <td>Wenceslaus Hollar</td>\n",
              "      <td>1641</td>\n",
              "      <td>0.01</td>\n",
              "      <td>0.0</td>\n",
              "      <td>0.08</td>\n",
              "      <td>0.01</td>\n",
              "      <td>0.82</td>\n",
              "      <td>0.01</td>\n",
              "      <td>0.07</td>\n",
              "      <td>sad</td>\n",
              "    </tr>\n",
              "  </tbody>\n",
              "</table>\n",
              "<p>217 rows × 13 columns</p>\n",
              "</div>\n",
              "      <button class=\"colab-df-convert\" onclick=\"convertToInteractive('df-542b3fd6-b5e5-4477-a9a9-adfe12c37f0e')\"\n",
              "              title=\"Convert this dataframe to an interactive table.\"\n",
              "              style=\"display:none;\">\n",
              "        \n",
              "  <svg xmlns=\"http://www.w3.org/2000/svg\" height=\"24px\"viewBox=\"0 0 24 24\"\n",
              "       width=\"24px\">\n",
              "    <path d=\"M0 0h24v24H0V0z\" fill=\"none\"/>\n",
              "    <path d=\"M18.56 5.44l.94 2.06.94-2.06 2.06-.94-2.06-.94-.94-2.06-.94 2.06-2.06.94zm-11 1L8.5 8.5l.94-2.06 2.06-.94-2.06-.94L8.5 2.5l-.94 2.06-2.06.94zm10 10l.94 2.06.94-2.06 2.06-.94-2.06-.94-.94-2.06-.94 2.06-2.06.94z\"/><path d=\"M17.41 7.96l-1.37-1.37c-.4-.4-.92-.59-1.43-.59-.52 0-1.04.2-1.43.59L10.3 9.45l-7.72 7.72c-.78.78-.78 2.05 0 2.83L4 21.41c.39.39.9.59 1.41.59.51 0 1.02-.2 1.41-.59l7.78-7.78 2.81-2.81c.8-.78.8-2.07 0-2.86zM5.41 20L4 18.59l7.72-7.72 1.47 1.35L5.41 20z\"/>\n",
              "  </svg>\n",
              "      </button>\n",
              "      \n",
              "  <style>\n",
              "    .colab-df-container {\n",
              "      display:flex;\n",
              "      flex-wrap:wrap;\n",
              "      gap: 12px;\n",
              "    }\n",
              "\n",
              "    .colab-df-convert {\n",
              "      background-color: #E8F0FE;\n",
              "      border: none;\n",
              "      border-radius: 50%;\n",
              "      cursor: pointer;\n",
              "      display: none;\n",
              "      fill: #1967D2;\n",
              "      height: 32px;\n",
              "      padding: 0 0 0 0;\n",
              "      width: 32px;\n",
              "    }\n",
              "\n",
              "    .colab-df-convert:hover {\n",
              "      background-color: #E2EBFA;\n",
              "      box-shadow: 0px 1px 2px rgba(60, 64, 67, 0.3), 0px 1px 3px 1px rgba(60, 64, 67, 0.15);\n",
              "      fill: #174EA6;\n",
              "    }\n",
              "\n",
              "    [theme=dark] .colab-df-convert {\n",
              "      background-color: #3B4455;\n",
              "      fill: #D2E3FC;\n",
              "    }\n",
              "\n",
              "    [theme=dark] .colab-df-convert:hover {\n",
              "      background-color: #434B5C;\n",
              "      box-shadow: 0px 1px 3px 1px rgba(0, 0, 0, 0.15);\n",
              "      filter: drop-shadow(0px 1px 2px rgba(0, 0, 0, 0.3));\n",
              "      fill: #FFFFFF;\n",
              "    }\n",
              "  </style>\n",
              "\n",
              "      <script>\n",
              "        const buttonEl =\n",
              "          document.querySelector('#df-542b3fd6-b5e5-4477-a9a9-adfe12c37f0e button.colab-df-convert');\n",
              "        buttonEl.style.display =\n",
              "          google.colab.kernel.accessAllowed ? 'block' : 'none';\n",
              "\n",
              "        async function convertToInteractive(key) {\n",
              "          const element = document.querySelector('#df-542b3fd6-b5e5-4477-a9a9-adfe12c37f0e');\n",
              "          const dataTable =\n",
              "            await google.colab.kernel.invokeFunction('convertToInteractive',\n",
              "                                                     [key], {});\n",
              "          if (!dataTable) return;\n",
              "\n",
              "          const docLinkHtml = 'Like what you see? Visit the ' +\n",
              "            '<a target=\"_blank\" href=https://colab.research.google.com/notebooks/data_table.ipynb>data table notebook</a>'\n",
              "            + ' to learn more about interactive tables.';\n",
              "          element.innerHTML = '';\n",
              "          dataTable['output_type'] = 'display_data';\n",
              "          await google.colab.output.renderOutput(dataTable, element);\n",
              "          const docLink = document.createElement('div');\n",
              "          docLink.innerHTML = docLinkHtml;\n",
              "          element.appendChild(docLink);\n",
              "        }\n",
              "      </script>\n",
              "    </div>\n",
              "  </div>\n",
              "  "
            ]
          },
          "metadata": {},
          "execution_count": 4
        }
      ]
    },
    {
      "cell_type": "code",
      "source": [
        "# visualizations\n",
        "\n",
        "dataset.plot.scatter(x=\"top_emotion\", y=\"year\", title=\"Top emotion vs year\")\n",
        "\n",
        "dataset.plot.scatter(x=\"happy\", y=\"year\", title=\"happy vs year\")\n",
        "dataset.plot.scatter(x=\"sad\", y=\"year\", title=\"sad vs year\")\n",
        "dataset.plot.scatter(x=\"neutral\", y=\"year\", title=\"neutral vs year\")\n",
        "dataset.plot.scatter(x=\"angry\", y=\"year\", title=\"angry vs year\")\n",
        "dataset.plot.scatter(x=\"fear\", y=\"year\", title=\"fear vs year\")\n",
        "dataset.plot.scatter(x=\"surprise\", y=\"year\", title=\"surprise vs year\")"
      ],
      "metadata": {
        "id": "2Drga_UOl0rY",
        "colab": {
          "base_uri": "https://localhost:8080/",
          "height": 1000
        },
        "outputId": "36812771-8c33-4e60-f926-1f1235f7d32b"
      },
      "execution_count": 6,
      "outputs": [
        {
          "output_type": "execute_result",
          "data": {
            "text/plain": [
              "<matplotlib.axes._subplots.AxesSubplot at 0x7fc7d4c6a0d0>"
            ]
          },
          "metadata": {},
          "execution_count": 6
        },
        {
          "output_type": "display_data",
          "data": {
            "text/plain": [
              "<Figure size 432x288 with 1 Axes>"
            ],
            "image/png": "[encoded data removed]"
          },
          "metadata": {
            "needs_background": "light"
          }
        },
        {
          "output_type": "display_data",
          "data": {
            "text/plain": [
              "<Figure size 432x288 with 1 Axes>"
            ],
            "image/png": "[encoded data removed]"
          },
          "metadata": {
            "needs_background": "light"
          }
        },
        {
          "output_type": "display_data",
          "data": {
            "text/plain": [
              "<Figure size 432x288 with 1 Axes>"
            ],
            "image/png": "[encoded data removed]"
          },
          "metadata": {
            "needs_background": "light"
          }
        },
        {
          "output_type": "display_data",
          "data": {
            "text/plain": [
              "<Figure size 432x288 with 1 Axes>"
            ],
            "image/png": "[encoded data removed]"
          },
          "metadata": {
            "needs_background": "light"
          }
        },
        {
          "output_type": "display_data",
          "data": {
            "text/plain": [
              "<Figure size 432x288 with 1 Axes>"
            ],
            "image/png": "[encoded data removed]"
          },
          "metadata": {
            "needs_background": "light"
          }
        },
        {
          "output_type": "display_data",
          "data": {
            "text/plain": [
              "<Figure size 432x288 with 1 Axes>"
            ],
            "image/png": "[encoded data removed]"
          },
          "metadata": {
            "needs_background": "light"
          }
        },
        {
          "output_type": "display_data",
          "data": {
            "text/plain": [
              "<Figure size 432x288 with 1 Axes>"
            ],
            "image/png": "[encoded data removed]"
          },
          "metadata": {
            "needs_background": "light"
          }
        }
      ]
    },
    {
      "cell_type": "code",
      "source": [
        ""
      ],
      "metadata": {
        "id": "gNfhgj9CDRyv"
      },
      "execution_count": null,
      "outputs": []
    }
  ]
}